{
 "cells": [
  {
   "cell_type": "markdown",
   "metadata": {},
   "source": [
    "Diarization: <br>\n",
    "Look for audio in data directory<br>\n",
    "Take that audiofile and diarize them(Can be optimized)<br>\n",
    "Inititalize the STT<br>\n",
    "split the full call according to the timings<br>\n",
    "Use the splitted audio to perform nisqa assessment<br>\n",
    "(is there any way to get nisqa scores directly without them being saved in csv?)<br>\n"
   ]
  },
  {
   "cell_type": "code",
   "execution_count": 1,
   "metadata": {},
   "outputs": [],
   "source": [
    "%load_ext autoreload\n",
    "%autoreload 2\n",
    "\n",
    "#This is for making the notebook get updated files after editing somefiles in the working directory"
   ]
  },
  {
   "cell_type": "code",
   "execution_count": null,
   "metadata": {},
   "outputs": [],
   "source": [
    "import utils\n",
    "import os\n",
    "import glob\n",
    "import wget\n",
    "from pyannote.audio import Audio \n",
    "from IPython.display import Audio as IPythonAudio"
   ]
  },
  {
   "cell_type": "code",
   "execution_count": null,
   "metadata": {},
   "outputs": [],
   "source": [
    "ROOT = os.getcwd()\n",
    "data_dir = os.path.join(ROOT,'Diarisation_STT\\data')\n",
    "os.makedirs(data_dir, exist_ok=True)\n",
    "audio_file_list = glob.glob(f\"{data_dir}/*.wav\") #This is will return all the .wav files in the data directory\n",
    "# print(audio_file_list)\n"
   ]
  },
  {
   "cell_type": "code",
   "execution_count": null,
   "metadata": {},
   "outputs": [],
   "source": [
    "# instantiate pretrained speaker diarization pipeline\n",
    "pipeline = utils.init_diarize_pipline()\n",
    "model, ds_model = utils.init_model_stt()\n",
    "# apply pretrained pipeline\n",
    "# ds model is deepspeech model\n",
    "# model uses coqui\n",
    "\n"
   ]
  },
  {
   "cell_type": "code",
   "execution_count": null,
   "metadata": {},
   "outputs": [],
   "source": [
    "df = utils.create_df([\"filename\", \"transcript\", \"confidence\", \"loudness\", \"noisiness\", \"coloration\" , \"discontinuity\", \"age\", \"gender\", \"accent\"])\n",
    "utils.diarize(audio_file_list, pipeline) #This diarizes the audio calls in data_dir and they will be stored as timings folder\n"
   ]
  },
  {
   "cell_type": "code",
   "execution_count": null,
   "metadata": {},
   "outputs": [],
   "source": [
    "#pass model or ds_model to use either of the stt engine to see results\n",
    "df_new = utils.audio_splitter(ROOT, data_dir=data_dir, audio_file_list=audio_file_list, df=df ,model=model)"
   ]
  }
 ],
 "metadata": {
  "kernelspec": {
   "display_name": "Python 3.10.7 64-bit",
   "language": "python",
   "name": "python3"
  },
  "language_info": {
   "codemirror_mode": {
    "name": "ipython",
    "version": 3
   },
   "file_extension": ".py",
   "mimetype": "text/x-python",
   "name": "python",
   "nbconvert_exporter": "python",
   "pygments_lexer": "ipython3",
   "version": "3.10.7"
  },
  "orig_nbformat": 4,
  "vscode": {
   "interpreter": {
    "hash": "369f2c481f4da34e4445cda3fffd2e751bd1c4d706f27375911949ba6bb62e1c"
   }
  }
 },
 "nbformat": 4,
 "nbformat_minor": 2
}
