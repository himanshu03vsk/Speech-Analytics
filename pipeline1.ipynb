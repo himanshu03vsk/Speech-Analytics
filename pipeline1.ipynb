{
 "cells": [
  {
   "cell_type": "markdown",
   "metadata": {},
   "source": [
    "Diarization: <br>\n",
    "Look for audio in data directory<br>\n",
    "Take that audiofile and diarize them(Can be optimized)<br>\n",
    "Inititalize the STT<br>\n",
    "split the full call according to the timings<br>\n",
    "Use the splitted audio to perform nisqa assessment<br>\n",
    "(is there any way to get nisqa scores directly without them being saved in csv?)<br>\n"
   ]
  },
  {
   "cell_type": "code",
   "execution_count": 1,
   "metadata": {},
   "outputs": [],
   "source": [
    "%load_ext autoreload\n",
    "%autoreload 2\n",
    "\n",
    "#This is for making the notebook get updated files after editing somefiles in the working directory"
   ]
  },
  {
   "cell_type": "code",
   "execution_count": 2,
   "metadata": {},
   "outputs": [
    {
     "name": "stderr",
     "output_type": "stream",
     "text": [
      "c:\\Users\\himan\\anaconda3\\envs\\nisqa\\lib\\site-packages\\tqdm\\auto.py:22: TqdmWarning: IProgress not found. Please update jupyter and ipywidgets. See https://ipywidgets.readthedocs.io/en/stable/user_install.html\n",
      "  from .autonotebook import tqdm as notebook_tqdm\n"
     ]
    }
   ],
   "source": [
    "# import utils\n",
    "from Diarisation_STT import utils\n",
    "import os\n",
    "import glob\n",
    "import wget\n",
    "from pyannote.audio import Audio \n",
    "from IPython.display import Audio as IPythonAudio"
   ]
  },
  {
   "cell_type": "code",
   "execution_count": 3,
   "metadata": {},
   "outputs": [],
   "source": [
    "ROOT = os.getcwd()\n",
    "data_dir = os.path.join(ROOT,'Diarisation_STT\\data')\n",
    "os.makedirs(data_dir, exist_ok=True)\n",
    "audio_file_list = glob.glob(f\"{data_dir}/*.wav\") #This is will return all the .wav files in the data directory\n",
    "# print(audio_file_list)\n"
   ]
  },
  {
   "cell_type": "markdown",
   "metadata": {},
   "source": [
    "If facing import error:<br>\n",
    "so files need to be in stt/ instead of stt/lib/"
   ]
  },
  {
   "cell_type": "code",
   "execution_count": 6,
   "metadata": {},
   "outputs": [
    {
     "name": "stderr",
     "output_type": "stream",
     "text": [
      "The torchaudio backend is switched to 'soundfile'. Note that 'sox_io' is not supported on Windows.\n",
      "The torchaudio backend is switched to 'soundfile'. Note that 'sox_io' is not supported on Windows.\n"
     ]
    },
    {
     "name": "stdout",
     "output_type": "stream",
     "text": [
      "Initialized the stt model successfully\n"
     ]
    }
   ],
   "source": [
    "# instantiate pretrained speaker diarization pipeline\n",
    "pipeline = utils.init_diarize_pipline()\n",
    "model, ds_model = utils.init_model_stt(\"Diarisation_STT\\model.tflite\", \"Diarisation_STT\\large_vocabulary.scorer\")\n",
    "# apply pretrained pipeline\n",
    "# ds model is deepspeech model\n",
    "# model uses coqui\n",
    "\n"
   ]
  },
  {
   "cell_type": "code",
   "execution_count": null,
   "metadata": {},
   "outputs": [],
   "source": [
    "df = utils.create_df([\"filename\", \"transcript\", \"confidence\", \"loudness\", \"noisiness\", \"coloration\" , \"discontinuity\", \"age\", \"gender\", \"accent\"])\n",
    "utils.diarize(audio_file_list, pipeline, output_dir=r\"C:\\Users\\himan\\Documents\\Speech\\Diarisation_STT\\Timings\") #This diarizes the audio calls in data_dir and they will be stored as timings folder\n"
   ]
  },
  {
   "cell_type": "code",
   "execution_count": null,
   "metadata": {},
   "outputs": [],
   "source": [
    "#pass model or ds_model to use either of the stt engine to see results\n",
    "df_new = utils.audio_splitter(ROOT, data_dir=data_dir, audio_file_list=audio_file_list, df=df ,model=model)"
   ]
  }
 ],
 "metadata": {
  "kernelspec": {
   "display_name": "Python 3.9.13 ('nisqa')",
   "language": "python",
   "name": "python3"
  },
  "language_info": {
   "codemirror_mode": {
    "name": "ipython",
    "version": 3
   },
   "file_extension": ".py",
   "mimetype": "text/x-python",
   "name": "python",
   "nbconvert_exporter": "python",
   "pygments_lexer": "ipython3",
   "version": "3.9.13"
  },
  "orig_nbformat": 4,
  "vscode": {
   "interpreter": {
    "hash": "dffa8045830cef074a493d371bc3f135f3a7796621687ab04b5ebf9d31373b37"
   }
  }
 },
 "nbformat": 4,
 "nbformat_minor": 2
}
